{
  "nbformat": 4,
  "nbformat_minor": 0,
  "metadata": {
    "colab": {
      "name": "오토인코더",
      "provenance": [],
      "collapsed_sections": [],
      "mount_file_id": "1_x-5iwYp6vWgloniUOBaDN-rZSFy9Epn",
      "authorship_tag": "ABX9TyPbYOUpGGdpEVnyaPaReEla",
      "include_colab_link": true
    },
    "kernelspec": {
      "name": "python3",
      "display_name": "Python 3"
    },
    "accelerator": "GPU"
  },
  "cells": [
    {
      "cell_type": "markdown",
      "metadata": {
        "id": "view-in-github",
        "colab_type": "text"
      },
      "source": [
        "<a href=\"https://colab.research.google.com/github/hj56775/dlibforbeauty/blob/main/%EC%98%A4%ED%86%A0%EC%9D%B8%EC%BD%94%EB%8D%94.ipynb\" target=\"_parent\"><img src=\"https://colab.research.google.com/assets/colab-badge.svg\" alt=\"Open In Colab\"/></a>"
      ]
    },
    {
      "cell_type": "code",
      "metadata": {
        "colab": {
          "base_uri": "https://localhost:8080/"
        },
        "id": "0PwroQVVVf0-",
        "outputId": "042a9874-60a2-4604-c5f7-4593ac172bd6"
      },
      "source": [
        "!pwd"
      ],
      "execution_count": 1,
      "outputs": [
        {
          "output_type": "stream",
          "text": [
            "/content\n"
          ],
          "name": "stdout"
        }
      ]
    },
    {
      "cell_type": "code",
      "metadata": {
        "colab": {
          "base_uri": "https://localhost:8080/"
        },
        "id": "ITyGDbhPVmGh",
        "outputId": "877988a4-9caa-4b4b-ddf8-574cda290460"
      },
      "source": [
        "%cd drive/MyDrive/Colab Notebooks"
      ],
      "execution_count": 2,
      "outputs": [
        {
          "output_type": "stream",
          "text": [
            "/content/drive/MyDrive/Colab Notebooks\n"
          ],
          "name": "stdout"
        }
      ]
    },
    {
      "cell_type": "code",
      "metadata": {
        "colab": {
          "base_uri": "https://localhost:8080/"
        },
        "id": "pBlP0rcyVvdX",
        "outputId": "5f1e93c3-5bef-4513-fe9f-e77e060dcca4"
      },
      "source": [
        "!ls"
      ],
      "execution_count": 3,
      "outputs": [
        {
          "output_type": "stream",
          "text": [
            "callbacks.py\t\t\t     __pycache__\n",
            "DailyDelhiClimateTest.csv\t     study_cnn.ipynb\n",
            "DailyDelhiClimateTrain.csv\t     Untitled\n",
            "dlib_beauty.ipynb\t\t     Untitled0.ipynb\n",
            "images\t\t\t\t     Untitled1.ipynb\n",
            "MLPDelhiClimateAnalysis.ipynb\t     Untitled2.ipynb\n",
            "OBS_ASOS_DD_20201207220648.csv\t     Untitled3.ipynb\n",
            "OBS_ASOS_DD_20201207220648_TEST.csv\n"
          ],
          "name": "stdout"
        }
      ]
    },
    {
      "cell_type": "code",
      "metadata": {
        "id": "0QRA-I4EWMde"
      },
      "source": [
        "import os"
      ],
      "execution_count": 4,
      "outputs": []
    },
    {
      "cell_type": "code",
      "metadata": {
        "id": "f-fUN7ujD0PT"
      },
      "source": [
        "import numpy as np\r\n",
        "import dlib\r\n",
        "import cv2\r\n",
        "import matplotlib.pyplot as plt\r\n",
        "import matplotlib.patches as patches\r\n",
        "from google.colab.patches import cv2_imshow\r\n",
        "from callbacks import CustomCallback, step_decay_schedule"
      ],
      "execution_count": 5,
      "outputs": []
    },
    {
      "cell_type": "code",
      "metadata": {
        "id": "mbzvIG8IDIYf"
      },
      "source": [
        "from tensorflow import keras\r\n",
        "mnist = keras.datasets.mnist\r\n",
        "\r\n",
        "(X_train,y_train), (X_test, y_test) = mnist.load_data()"
      ],
      "execution_count": 6,
      "outputs": []
    },
    {
      "cell_type": "code",
      "metadata": {
        "colab": {
          "base_uri": "https://localhost:8080/"
        },
        "id": "Sy-42R8_DAVf",
        "outputId": "4a607bf0-f08b-48f3-987d-e2a1df860cb3"
      },
      "source": [
        "from keras.layers import Input, Conv2D, Flatten, Dense, Conv2DTranspose, Reshape, Lambda, Activation, BatchNormalization, LeakyReLU, Dropout\r\n",
        "from keras.models import Model\r\n",
        "from keras import backend as K\r\n",
        "from keras.optimizers import Adam\r\n",
        "from keras.callbacks import ModelCheckpoint \r\n",
        "from keras.utils import plot_model \r\n",
        "import tensorflow as tf\r\n",
        "import numpy as np\r\n",
        "\r\n",
        "input_dim=(28,28,1)\r\n",
        "filter=[32,64,64,64]\r\n",
        "stride=[1,2,2,1]\r\n",
        "encoder_input = Input(shape=input_dim, name='input')\r\n",
        "\r\n",
        "x = encoder_input\r\n",
        "\r\n",
        "for i in range(4):\r\n",
        "    conv_layer = Conv2D(\r\n",
        "        filters = filter[i]\r\n",
        "        , kernel_size = 3\r\n",
        "        , strides = stride[i]\r\n",
        "        ,padding = 'same'\r\n",
        "        , name = 'conv' + str(i)\r\n",
        "        )\r\n",
        "\r\n",
        "    x = conv_layer(x)\r\n",
        "    x = LeakyReLU()(x)\r\n",
        "\r\n",
        "\r\n",
        "shape_before_flattening = K.int_shape(x)[1:]\r\n",
        "\r\n",
        "x = Flatten()(x)\r\n",
        "encoder_output=Dense(2,name='encoder_output')(x)\r\n",
        "\r\n",
        "\r\n",
        "encoder=Model(encoder_input,encoder_output)\r\n",
        "encoder.summary()"
      ],
      "execution_count": 7,
      "outputs": [
        {
          "output_type": "stream",
          "text": [
            "Model: \"model\"\n",
            "_________________________________________________________________\n",
            "Layer (type)                 Output Shape              Param #   \n",
            "=================================================================\n",
            "input (InputLayer)           [(None, 28, 28, 1)]       0         \n",
            "_________________________________________________________________\n",
            "conv0 (Conv2D)               (None, 28, 28, 32)        320       \n",
            "_________________________________________________________________\n",
            "leaky_re_lu (LeakyReLU)      (None, 28, 28, 32)        0         \n",
            "_________________________________________________________________\n",
            "conv1 (Conv2D)               (None, 14, 14, 64)        18496     \n",
            "_________________________________________________________________\n",
            "leaky_re_lu_1 (LeakyReLU)    (None, 14, 14, 64)        0         \n",
            "_________________________________________________________________\n",
            "conv2 (Conv2D)               (None, 7, 7, 64)          36928     \n",
            "_________________________________________________________________\n",
            "leaky_re_lu_2 (LeakyReLU)    (None, 7, 7, 64)          0         \n",
            "_________________________________________________________________\n",
            "conv3 (Conv2D)               (None, 7, 7, 64)          36928     \n",
            "_________________________________________________________________\n",
            "leaky_re_lu_3 (LeakyReLU)    (None, 7, 7, 64)          0         \n",
            "_________________________________________________________________\n",
            "flatten (Flatten)            (None, 3136)              0         \n",
            "_________________________________________________________________\n",
            "encoder_output (Dense)       (None, 2)                 6274      \n",
            "=================================================================\n",
            "Total params: 98,946\n",
            "Trainable params: 98,946\n",
            "Non-trainable params: 0\n",
            "_________________________________________________________________\n"
          ],
          "name": "stdout"
        }
      ]
    },
    {
      "cell_type": "code",
      "metadata": {
        "colab": {
          "base_uri": "https://localhost:8080/"
        },
        "id": "vExIWL6JIMZY",
        "outputId": "d5a80a30-c021-414b-c076-31226b327019"
      },
      "source": [
        "shape_before_flattening"
      ],
      "execution_count": 8,
      "outputs": [
        {
          "output_type": "execute_result",
          "data": {
            "text/plain": [
              "(7, 7, 64)"
            ]
          },
          "metadata": {
            "tags": []
          },
          "execution_count": 8
        }
      ]
    },
    {
      "cell_type": "code",
      "metadata": {
        "colab": {
          "base_uri": "https://localhost:8080/"
        },
        "id": "LZqPkP_wF1Od",
        "outputId": "d6022b16-250a-4a3e-ae65-5fc1692b7267"
      },
      "source": [
        "filter=[64,64,32,1]\r\n",
        "stride=[1,2,2,1]\r\n",
        "decoder_input = Input(shape=2, name='decoder_input')\r\n",
        "\r\n",
        "x = Dense(np.prod(shape_before_flattening))(decoder_input)\r\n",
        "x=Reshape(shape_before_flattening)(x)\r\n",
        "\r\n",
        "for i in range(4):\r\n",
        "    conv_t_layer = Conv2DTranspose(\r\n",
        "        filters = filter[i]\r\n",
        "        , kernel_size = 3\r\n",
        "        , strides = stride[i]\r\n",
        "        ,padding = 'same'\r\n",
        "        , name = 'decoder_conv_t' + str(i)\r\n",
        "        )\r\n",
        "\r\n",
        "    x = conv_t_layer(x)\r\n",
        "\r\n",
        "    if i <3:\r\n",
        "      x=LeakyReLU()(x)\r\n",
        "    else:\r\n",
        "      x=Activation('sigmoid')(x)\r\n",
        "\r\n",
        "decoder_output=x\r\n",
        "\r\n",
        "\r\n",
        "decoder=Model(decoder_input,decoder_output)\r\n",
        "decoder.summary()"
      ],
      "execution_count": 9,
      "outputs": [
        {
          "output_type": "stream",
          "text": [
            "Model: \"model_1\"\n",
            "_________________________________________________________________\n",
            "Layer (type)                 Output Shape              Param #   \n",
            "=================================================================\n",
            "decoder_input (InputLayer)   [(None, 2)]               0         \n",
            "_________________________________________________________________\n",
            "dense (Dense)                (None, 3136)              9408      \n",
            "_________________________________________________________________\n",
            "reshape (Reshape)            (None, 7, 7, 64)          0         \n",
            "_________________________________________________________________\n",
            "decoder_conv_t0 (Conv2DTrans (None, 7, 7, 64)          36928     \n",
            "_________________________________________________________________\n",
            "leaky_re_lu_4 (LeakyReLU)    (None, 7, 7, 64)          0         \n",
            "_________________________________________________________________\n",
            "decoder_conv_t1 (Conv2DTrans (None, 14, 14, 64)        36928     \n",
            "_________________________________________________________________\n",
            "leaky_re_lu_5 (LeakyReLU)    (None, 14, 14, 64)        0         \n",
            "_________________________________________________________________\n",
            "decoder_conv_t2 (Conv2DTrans (None, 28, 28, 32)        18464     \n",
            "_________________________________________________________________\n",
            "leaky_re_lu_6 (LeakyReLU)    (None, 28, 28, 32)        0         \n",
            "_________________________________________________________________\n",
            "decoder_conv_t3 (Conv2DTrans (None, 28, 28, 1)         289       \n",
            "_________________________________________________________________\n",
            "activation (Activation)      (None, 28, 28, 1)         0         \n",
            "=================================================================\n",
            "Total params: 102,017\n",
            "Trainable params: 102,017\n",
            "Non-trainable params: 0\n",
            "_________________________________________________________________\n"
          ],
          "name": "stdout"
        }
      ]
    },
    {
      "cell_type": "code",
      "metadata": {
        "id": "I9BLm-ArIbtV"
      },
      "source": [
        "#오토인코더\r\n",
        "model_input=encoder_input\r\n",
        "model_output=decoder(encoder_output)\r\n",
        "model=Model(model_input,model_output)"
      ],
      "execution_count": 10,
      "outputs": []
    },
    {
      "cell_type": "code",
      "metadata": {
        "colab": {
          "base_uri": "https://localhost:8080/"
        },
        "id": "a8I-beSgast0",
        "outputId": "094eb406-059e-4717-d012-890edd8bbece"
      },
      "source": [
        "model.summary()"
      ],
      "execution_count": 11,
      "outputs": [
        {
          "output_type": "stream",
          "text": [
            "Model: \"model_2\"\n",
            "_________________________________________________________________\n",
            "Layer (type)                 Output Shape              Param #   \n",
            "=================================================================\n",
            "input (InputLayer)           [(None, 28, 28, 1)]       0         \n",
            "_________________________________________________________________\n",
            "conv0 (Conv2D)               (None, 28, 28, 32)        320       \n",
            "_________________________________________________________________\n",
            "leaky_re_lu (LeakyReLU)      (None, 28, 28, 32)        0         \n",
            "_________________________________________________________________\n",
            "conv1 (Conv2D)               (None, 14, 14, 64)        18496     \n",
            "_________________________________________________________________\n",
            "leaky_re_lu_1 (LeakyReLU)    (None, 14, 14, 64)        0         \n",
            "_________________________________________________________________\n",
            "conv2 (Conv2D)               (None, 7, 7, 64)          36928     \n",
            "_________________________________________________________________\n",
            "leaky_re_lu_2 (LeakyReLU)    (None, 7, 7, 64)          0         \n",
            "_________________________________________________________________\n",
            "conv3 (Conv2D)               (None, 7, 7, 64)          36928     \n",
            "_________________________________________________________________\n",
            "leaky_re_lu_3 (LeakyReLU)    (None, 7, 7, 64)          0         \n",
            "_________________________________________________________________\n",
            "flatten (Flatten)            (None, 3136)              0         \n",
            "_________________________________________________________________\n",
            "encoder_output (Dense)       (None, 2)                 6274      \n",
            "_________________________________________________________________\n",
            "model_1 (Functional)         (None, 28, 28, 1)         102017    \n",
            "=================================================================\n",
            "Total params: 200,963\n",
            "Trainable params: 200,963\n",
            "Non-trainable params: 0\n",
            "_________________________________________________________________\n"
          ],
          "name": "stdout"
        }
      ]
    },
    {
      "cell_type": "code",
      "metadata": {
        "id": "VOFsuj_KRjw2"
      },
      "source": [
        "lr_sched = step_decay_schedule(initial_lr=0.0005, decay_factor=1, step_size=1)"
      ],
      "execution_count": 12,
      "outputs": []
    },
    {
      "cell_type": "code",
      "metadata": {
        "id": "8bPpOo0yV676"
      },
      "source": [
        "custom_callback = CustomCallback(\"/content/drive/MyDrive/Colab Notebooks\", 100, 0,decoder)"
      ],
      "execution_count": 13,
      "outputs": []
    },
    {
      "cell_type": "code",
      "metadata": {
        "id": "10w_f5byRdLV"
      },
      "source": [
        "checkpoint2 = ModelCheckpoint(os.path.join(\"/content/drive/MyDrive/Colab Notebooks\", 'weights/weights.h5'), save_weights_only = True, verbose=1)"
      ],
      "execution_count": 14,
      "outputs": []
    },
    {
      "cell_type": "code",
      "metadata": {
        "id": "Vux3wl_ZRgbb"
      },
      "source": [
        "callbacks_list = [checkpoint2, custom_callback, lr_sched]"
      ],
      "execution_count": 15,
      "outputs": []
    },
    {
      "cell_type": "code",
      "metadata": {
        "id": "wX0bWbkaIbrR"
      },
      "source": [
        "#컴파일\r\n",
        "model.compile(optimizer=Adam(lr=0.0005),loss= 'mse')"
      ],
      "execution_count": 16,
      "outputs": []
    },
    {
      "cell_type": "code",
      "metadata": {
        "colab": {
          "base_uri": "https://localhost:8080/"
        },
        "id": "H6PZB-XfJ5_Y",
        "outputId": "5e11e3e5-1102-40ec-e6f8-e478c7b561b4"
      },
      "source": [
        "model.fit(   \r\n",
        "    X_train\r\n",
        "    , X_train\r\n",
        "    , batch_size =32\r\n",
        "    , shuffle = True\r\n",
        "    , epochs = 10\r\n",
        "    , initial_epoch = 0\r\n",
        "    , callbacks = callbacks_list\r\n",
        ")"
      ],
      "execution_count": 18,
      "outputs": [
        {
          "output_type": "stream",
          "text": [
            "Epoch 1/10\n",
            "   4/1875 [..............................] - ETA: 34s - loss: 6984.5332WARNING:tensorflow:Callback method `on_train_batch_end` is slow compared to the batch time (batch time: 0.0028s vs `on_train_batch_end` time: 0.0102s). Check your callbacks.\n",
            "1875/1875 [==============================] - 8s 4ms/step - loss: 7217.1670\n",
            "\n",
            "Epoch 00001: saving model to /content/drive/MyDrive/Colab Notebooks/weights/weights.h5\n",
            "Epoch 2/10\n",
            "1875/1875 [==============================] - 8s 4ms/step - loss: 7217.1670\n",
            "\n",
            "Epoch 00002: saving model to /content/drive/MyDrive/Colab Notebooks/weights/weights.h5\n",
            "Epoch 3/10\n",
            "1875/1875 [==============================] - 8s 4ms/step - loss: 7217.1572\n",
            "\n",
            "Epoch 00003: saving model to /content/drive/MyDrive/Colab Notebooks/weights/weights.h5\n",
            "Epoch 4/10\n",
            "1875/1875 [==============================] - 8s 4ms/step - loss: 7217.1392\n",
            "\n",
            "Epoch 00004: saving model to /content/drive/MyDrive/Colab Notebooks/weights/weights.h5\n",
            "Epoch 5/10\n",
            "1875/1875 [==============================] - 8s 4ms/step - loss: 7217.1523\n",
            "\n",
            "Epoch 00005: saving model to /content/drive/MyDrive/Colab Notebooks/weights/weights.h5\n",
            "Epoch 6/10\n",
            "1875/1875 [==============================] - 8s 4ms/step - loss: 7217.1411\n",
            "\n",
            "Epoch 00006: saving model to /content/drive/MyDrive/Colab Notebooks/weights/weights.h5\n",
            "Epoch 7/10\n",
            "1875/1875 [==============================] - 8s 4ms/step - loss: 7217.1382\n",
            "\n",
            "Epoch 00007: saving model to /content/drive/MyDrive/Colab Notebooks/weights/weights.h5\n",
            "Epoch 8/10\n",
            "1875/1875 [==============================] - 8s 4ms/step - loss: 7217.1382\n",
            "\n",
            "Epoch 00008: saving model to /content/drive/MyDrive/Colab Notebooks/weights/weights.h5\n",
            "Epoch 9/10\n",
            "1875/1875 [==============================] - 8s 4ms/step - loss: 7217.1333\n",
            "\n",
            "Epoch 00009: saving model to /content/drive/MyDrive/Colab Notebooks/weights/weights.h5\n",
            "Epoch 10/10\n",
            "1875/1875 [==============================] - 8s 4ms/step - loss: 7217.1455\n",
            "\n",
            "Epoch 00010: saving model to /content/drive/MyDrive/Colab Notebooks/weights/weights.h5\n"
          ],
          "name": "stdout"
        },
        {
          "output_type": "execute_result",
          "data": {
            "text/plain": [
              "<tensorflow.python.keras.callbacks.History at 0x7f3cd00977b8>"
            ]
          },
          "metadata": {
            "tags": []
          },
          "execution_count": 18
        }
      ]
    },
    {
      "cell_type": "code",
      "metadata": {
        "id": "YXO_I4usaclx"
      },
      "source": [
        "model.decoder"
      ],
      "execution_count": null,
      "outputs": []
    }
  ]
}